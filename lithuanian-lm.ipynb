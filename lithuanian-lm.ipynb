{
 "cells": [
  {
   "cell_type": "code",
   "execution_count": 1,
   "id": "91f8f971",
   "metadata": {
    "execution": {
     "iopub.execute_input": "2022-08-15T04:46:19.845564Z",
     "iopub.status.busy": "2022-08-15T04:46:19.845066Z",
     "iopub.status.idle": "2022-08-15T04:46:35.261520Z",
     "shell.execute_reply": "2022-08-15T04:46:35.260511Z"
    },
    "executionInfo": {
     "elapsed": 24037,
     "status": "ok",
     "timestamp": 1660500292765,
     "user": {
      "displayName": "Tomas Petrikas",
      "userId": "01959969742665359524"
     },
     "user_tz": -180
    },
    "id": "feef124c",
    "outputId": "26973ec9-9774-4f29-b640-91707401dd92",
    "papermill": {
     "duration": 15.42696,
     "end_time": "2022-08-15T04:46:35.264418",
     "exception": false,
     "start_time": "2022-08-15T04:46:19.837458",
     "status": "completed"
    },
    "tags": []
   },
   "outputs": [],
   "source": [
    "!pip install -Uqq fastai\n",
    "from fastai.text.all import *"
   ]
  },
  {
   "cell_type": "code",
   "execution_count": 2,
   "id": "89bcd10f",
   "metadata": {
    "execution": {
     "iopub.execute_input": "2022-08-15T04:46:35.275846Z",
     "iopub.status.busy": "2022-08-15T04:46:35.275395Z",
     "iopub.status.idle": "2022-08-15T04:46:35.346948Z",
     "shell.execute_reply": "2022-08-15T04:46:35.346052Z"
    },
    "executionInfo": {
     "elapsed": 4416,
     "status": "ok",
     "timestamp": 1660500299583,
     "user": {
      "displayName": "Tomas Petrikas",
      "userId": "01959969742665359524"
     },
     "user_tz": -180
    },
    "id": "ea0bbe86",
    "outputId": "343f9dba-a21c-4b48-8a3a-1cc75be357a3",
    "papermill": {
     "duration": 0.079476,
     "end_time": "2022-08-15T04:46:35.349044",
     "exception": false,
     "start_time": "2022-08-15T04:46:35.269568",
     "status": "completed"
    },
    "tags": []
   },
   "outputs": [
    {
     "data": {
      "text/plain": [
       "(#405) [Path('/kaggle/input/lithuanian-wiki/Lietuviu/361.txt'),Path('/kaggle/input/lithuanian-wiki/Lietuviu/40.txt'),Path('/kaggle/input/lithuanian-wiki/Lietuviu/245.txt'),Path('/kaggle/input/lithuanian-wiki/Lietuviu/44.txt'),Path('/kaggle/input/lithuanian-wiki/Lietuviu/141.txt'),Path('/kaggle/input/lithuanian-wiki/Lietuviu/372.txt'),Path('/kaggle/input/lithuanian-wiki/Lietuviu/333.txt'),Path('/kaggle/input/lithuanian-wiki/Lietuviu/276.txt'),Path('/kaggle/input/lithuanian-wiki/Lietuviu/3.txt'),Path('/kaggle/input/lithuanian-wiki/Lietuviu/244.txt')...]"
      ]
     },
     "execution_count": 2,
     "metadata": {},
     "output_type": "execute_result"
    }
   ],
   "source": [
    "path = Path('/kaggle/input/lithuanian-wiki/Lietuviu')\n",
    "path.ls()"
   ]
  },
  {
   "cell_type": "code",
   "execution_count": 3,
   "id": "3259d27f",
   "metadata": {
    "execution": {
     "iopub.execute_input": "2022-08-15T04:46:35.360202Z",
     "iopub.status.busy": "2022-08-15T04:46:35.359918Z",
     "iopub.status.idle": "2022-08-15T04:46:39.575166Z",
     "shell.execute_reply": "2022-08-15T04:46:39.573715Z"
    },
    "papermill": {
     "duration": 4.224528,
     "end_time": "2022-08-15T04:46:39.578306",
     "exception": false,
     "start_time": "2022-08-15T04:46:35.353778",
     "status": "completed"
    },
    "tags": []
   },
   "outputs": [],
   "source": [
    "!cp -r /kaggle/input/lithuanian-wiki/Lietuviu ./"
   ]
  },
  {
   "cell_type": "code",
   "execution_count": 4,
   "id": "1a33f12d",
   "metadata": {
    "execution": {
     "iopub.execute_input": "2022-08-15T04:46:39.590105Z",
     "iopub.status.busy": "2022-08-15T04:46:39.589414Z",
     "iopub.status.idle": "2022-08-15T04:46:39.599620Z",
     "shell.execute_reply": "2022-08-15T04:46:39.598460Z"
    },
    "papermill": {
     "duration": 0.018093,
     "end_time": "2022-08-15T04:46:39.601721",
     "exception": false,
     "start_time": "2022-08-15T04:46:39.583628",
     "status": "completed"
    },
    "tags": []
   },
   "outputs": [
    {
     "data": {
      "text/plain": [
       "(#405) [Path('/kaggle/working/Lietuviu/196.txt'),Path('/kaggle/working/Lietuviu/283.txt'),Path('/kaggle/working/Lietuviu/110.txt'),Path('/kaggle/working/Lietuviu/7.txt'),Path('/kaggle/working/Lietuviu/267.txt'),Path('/kaggle/working/Lietuviu/159.txt'),Path('/kaggle/working/Lietuviu/170.txt'),Path('/kaggle/working/Lietuviu/139.txt'),Path('/kaggle/working/Lietuviu/378.txt'),Path('/kaggle/working/Lietuviu/295.txt')...]"
      ]
     },
     "execution_count": 4,
     "metadata": {},
     "output_type": "execute_result"
    }
   ],
   "source": [
    "path = Path('/kaggle/working/Lietuviu')\n",
    "path.ls()"
   ]
  },
  {
   "cell_type": "code",
   "execution_count": 5,
   "id": "f769efa4",
   "metadata": {
    "execution": {
     "iopub.execute_input": "2022-08-15T04:46:39.613316Z",
     "iopub.status.busy": "2022-08-15T04:46:39.612641Z",
     "iopub.status.idle": "2022-08-15T04:46:39.620102Z",
     "shell.execute_reply": "2022-08-15T04:46:39.619183Z"
    },
    "executionInfo": {
     "elapsed": 375,
     "status": "ok",
     "timestamp": 1660500304014,
     "user": {
      "displayName": "Tomas Petrikas",
      "userId": "01959969742665359524"
     },
     "user_tz": -180
    },
    "id": "0ec5bf6d",
    "papermill": {
     "duration": 0.015558,
     "end_time": "2022-08-15T04:46:39.622028",
     "exception": false,
     "start_time": "2022-08-15T04:46:39.606470",
     "status": "completed"
    },
    "tags": []
   },
   "outputs": [],
   "source": [
    "files = get_text_files(path)"
   ]
  },
  {
   "cell_type": "code",
   "execution_count": 6,
   "id": "7c7a9c76",
   "metadata": {
    "execution": {
     "iopub.execute_input": "2022-08-15T04:46:39.632918Z",
     "iopub.status.busy": "2022-08-15T04:46:39.631960Z",
     "iopub.status.idle": "2022-08-15T04:46:40.633572Z",
     "shell.execute_reply": "2022-08-15T04:46:40.632611Z"
    },
    "executionInfo": {
     "elapsed": 6432,
     "status": "ok",
     "timestamp": 1660500313174,
     "user": {
      "displayName": "Tomas Petrikas",
      "userId": "01959969742665359524"
     },
     "user_tz": -180
    },
    "id": "2095fca2",
    "outputId": "31b125ff-f97d-47fa-881d-45a34874aff3",
    "papermill": {
     "duration": 1.009345,
     "end_time": "2022-08-15T04:46:40.635919",
     "exception": false,
     "start_time": "2022-08-15T04:46:39.626574",
     "status": "completed"
    },
    "tags": []
   },
   "outputs": [
    {
     "data": {
      "text/plain": [
       "405"
      ]
     },
     "execution_count": 6,
     "metadata": {},
     "output_type": "execute_result"
    }
   ],
   "source": [
    "txts = L(o.open(encoding='utf-8').read() for o in files)\n",
    "len(txts)"
   ]
  },
  {
   "cell_type": "code",
   "execution_count": 7,
   "id": "7d860519",
   "metadata": {
    "execution": {
     "iopub.execute_input": "2022-08-15T04:46:40.647442Z",
     "iopub.status.busy": "2022-08-15T04:46:40.646811Z",
     "iopub.status.idle": "2022-08-15T04:46:40.652688Z",
     "shell.execute_reply": "2022-08-15T04:46:40.651791Z"
    },
    "executionInfo": {
     "elapsed": 902,
     "status": "ok",
     "timestamp": 1660500316114,
     "user": {
      "displayName": "Tomas Petrikas",
      "userId": "01959969742665359524"
     },
     "user_tz": -180
    },
    "id": "4533f2c9",
    "outputId": "acef80ce-1f88-47ed-f891-c3c9463c0043",
    "papermill": {
     "duration": 0.013609,
     "end_time": "2022-08-15T04:46:40.654539",
     "exception": false,
     "start_time": "2022-08-15T04:46:40.640930",
     "status": "completed"
    },
    "tags": []
   },
   "outputs": [
    {
     "data": {
      "text/plain": [
       "'\\nBosvelija\\n\\nBosvelija (\"Boswellia\")\\xa0– burserinių (\"Burseraceae\") šeimos medžių gentis. Paplitusi Afrikoje, Arabijoje, Indijoje.\\nAugalas garsus dėl iš jo sakų gaminamų smilkalų (ladano arba olibano). Š'"
      ]
     },
     "execution_count": 7,
     "metadata": {},
     "output_type": "execute_result"
    }
   ],
   "source": [
    "txt = txts[123]\n",
    "txt[:200]"
   ]
  },
  {
   "cell_type": "code",
   "execution_count": 8,
   "id": "69cce72d",
   "metadata": {
    "execution": {
     "iopub.execute_input": "2022-08-15T04:46:40.666642Z",
     "iopub.status.busy": "2022-08-15T04:46:40.665244Z",
     "iopub.status.idle": "2022-08-15T04:57:08.865189Z",
     "shell.execute_reply": "2022-08-15T04:57:08.863991Z"
    },
    "executionInfo": {
     "elapsed": 18306,
     "status": "ok",
     "timestamp": 1660500342208,
     "user": {
      "displayName": "Tomas Petrikas",
      "userId": "01959969742665359524"
     },
     "user_tz": -180
    },
    "id": "b88e77df",
    "papermill": {
     "duration": 628.208385,
     "end_time": "2022-08-15T04:57:08.867732",
     "exception": false,
     "start_time": "2022-08-15T04:46:40.659347",
     "status": "completed"
    },
    "tags": []
   },
   "outputs": [
    {
     "data": {
      "text/html": [
       "\n",
       "<style>\n",
       "    /* Turns off some styling */\n",
       "    progress {\n",
       "        /* gets rid of default border in Firefox and Opera. */\n",
       "        border: none;\n",
       "        /* Needs to be in here for Safari polyfill so background images work as expected. */\n",
       "        background-size: auto;\n",
       "    }\n",
       "    .progress-bar-interrupted, .progress-bar-interrupted::-webkit-progress-bar {\n",
       "        background: #F44336;\n",
       "    }\n",
       "</style>\n"
      ],
      "text/plain": [
       "<IPython.core.display.HTML object>"
      ]
     },
     "metadata": {},
     "output_type": "display_data"
    },
    {
     "data": {
      "text/html": [],
      "text/plain": [
       "<IPython.core.display.HTML object>"
      ]
     },
     "metadata": {},
     "output_type": "display_data"
    }
   ],
   "source": [
    "dls_lm = DataBlock(\n",
    "    blocks=TextBlock.from_folder(path, is_lm=True, min_freq=3, max_vocab=60000),\n",
    "    get_items=get_text_files, splitter=RandomSplitter(0.1)\n",
    ").dataloaders(path, bs=128, seq_len=80)"
   ]
  },
  {
   "cell_type": "code",
   "execution_count": 9,
   "id": "45417ed3",
   "metadata": {
    "execution": {
     "iopub.execute_input": "2022-08-15T04:57:08.879938Z",
     "iopub.status.busy": "2022-08-15T04:57:08.879618Z",
     "iopub.status.idle": "2022-08-15T04:57:14.902811Z",
     "shell.execute_reply": "2022-08-15T04:57:14.901681Z"
    },
    "executionInfo": {
     "elapsed": 31294,
     "status": "ok",
     "timestamp": 1660500376139,
     "user": {
      "displayName": "Tomas Petrikas",
      "userId": "01959969742665359524"
     },
     "user_tz": -180
    },
    "id": "18f75f43",
    "outputId": "ec61527a-fd65-48d1-9ebd-6c226f8d8bc6",
    "papermill": {
     "duration": 6.031911,
     "end_time": "2022-08-15T04:57:14.905031",
     "exception": false,
     "start_time": "2022-08-15T04:57:08.873120",
     "status": "completed"
    },
    "tags": []
   },
   "outputs": [
    {
     "data": {
      "text/html": [
       "<table border=\"1\" class=\"dataframe\">\n",
       "  <thead>\n",
       "    <tr style=\"text-align: right;\">\n",
       "      <th></th>\n",
       "      <th>text</th>\n",
       "      <th>text_</th>\n",
       "    </tr>\n",
       "  </thead>\n",
       "  <tbody>\n",
       "    <tr>\n",
       "      <th>0</th>\n",
       "      <td>xxbos xxmaj xxunk \\n\\n xxmaj xxunk , \" xxunk \" ( xxunk . xxmaj xxunk )   – xxunk religija , kurią pagrindė xxmaj guru xxmaj xxunk , gimęs 1469   m. xxmaj xxunk ( dabar xxmaj pakistanas ) , itin xxunk žmonių lyčių lygybę . xxmaj priskaičiuojama iki 20 mln . pasekėjų . \\n xxmaj xxunk religija panaši į hinduizmą ( sielų xxunk , majos samprata ) . xxmaj svarbi žinių ir religijos harmonija , xxunk , xxmaj dievo</td>\n",
       "      <td>xxmaj xxunk \\n\\n xxmaj xxunk , \" xxunk \" ( xxunk . xxmaj xxunk )   – xxunk religija , kurią pagrindė xxmaj guru xxmaj xxunk , gimęs 1469   m. xxmaj xxunk ( dabar xxmaj pakistanas ) , itin xxunk žmonių lyčių lygybę . xxmaj priskaičiuojama iki 20 mln . pasekėjų . \\n xxmaj xxunk religija panaši į hinduizmą ( sielų xxunk , majos samprata ) . xxmaj svarbi žinių ir religijos harmonija , xxunk , xxmaj dievo xxunk</td>\n",
       "    </tr>\n",
       "    <tr>\n",
       "      <th>1</th>\n",
       "      <td>bolivijoje   – xxmaj rytų xxmaj kordiljera ) ; šiaurėje palaipsniui pereina į xxmaj amazonijos regioną ( bolivijoje ) ir xxmaj xxunk aukštumas ( brazilijoje ) . šiaurinė riba xxmaj bolivijoje siekia xxmaj beni vidurupį , xxmaj xxunk žemupį , xxmaj brazilijoje   – xxmaj paragvajaus upės ištakas . xxmaj pietuose čakas pereina į gamtinėmis sąlygomis panašią pampų sritį . xxmaj riba tarp šių regionų paprastai vedama xxmaj salado upe . \\n xxmaj reljefas . \\n xxmaj gran čako regionas</td>\n",
       "      <td>– xxmaj rytų xxmaj kordiljera ) ; šiaurėje palaipsniui pereina į xxmaj amazonijos regioną ( bolivijoje ) ir xxmaj xxunk aukštumas ( brazilijoje ) . šiaurinė riba xxmaj bolivijoje siekia xxmaj beni vidurupį , xxmaj xxunk žemupį , xxmaj brazilijoje   – xxmaj paragvajaus upės ištakas . xxmaj pietuose čakas pereina į gamtinėmis sąlygomis panašią pampų sritį . xxmaj riba tarp šių regionų paprastai vedama xxmaj salado upe . \\n xxmaj reljefas . \\n xxmaj gran čako regionas driekiasi</td>\n",
       "    </tr>\n",
       "  </tbody>\n",
       "</table>"
      ],
      "text/plain": [
       "<IPython.core.display.HTML object>"
      ]
     },
     "metadata": {},
     "output_type": "display_data"
    }
   ],
   "source": [
    "dls_lm.show_batch(max_n=2)"
   ]
  },
  {
   "cell_type": "code",
   "execution_count": 10,
   "id": "3f2cb2bf",
   "metadata": {
    "execution": {
     "iopub.execute_input": "2022-08-15T04:57:14.918303Z",
     "iopub.status.busy": "2022-08-15T04:57:14.916582Z",
     "iopub.status.idle": "2022-08-15T04:57:14.923562Z",
     "shell.execute_reply": "2022-08-15T04:57:14.922662Z"
    },
    "executionInfo": {
     "elapsed": 267,
     "status": "ok",
     "timestamp": 1660500384858,
     "user": {
      "displayName": "Tomas Petrikas",
      "userId": "01959969742665359524"
     },
     "user_tz": -180
    },
    "id": "5awzUAQ9JhnI",
    "outputId": "21848601-5926-4ae1-aced-821662bfa305",
    "papermill": {
     "duration": 0.015259,
     "end_time": "2022-08-15T04:57:14.925654",
     "exception": false,
     "start_time": "2022-08-15T04:57:14.910395",
     "status": "completed"
    },
    "tags": []
   },
   "outputs": [
    {
     "data": {
      "text/plain": [
       "60008"
      ]
     },
     "execution_count": 10,
     "metadata": {},
     "output_type": "execute_result"
    }
   ],
   "source": [
    "len(dls_lm.vocab)"
   ]
  },
  {
   "cell_type": "code",
   "execution_count": 11,
   "id": "03ee3bcd",
   "metadata": {
    "execution": {
     "iopub.execute_input": "2022-08-15T04:57:14.937566Z",
     "iopub.status.busy": "2022-08-15T04:57:14.937293Z",
     "iopub.status.idle": "2022-08-15T04:57:23.438977Z",
     "shell.execute_reply": "2022-08-15T04:57:23.437972Z"
    },
    "executionInfo": {
     "elapsed": 4941,
     "status": "ok",
     "timestamp": 1660500407852,
     "user": {
      "displayName": "Tomas Petrikas",
      "userId": "01959969742665359524"
     },
     "user_tz": -180
    },
    "id": "3d0a6a75",
    "outputId": "2b25db46-6f33-4de4-b409-fbd996d64511",
    "papermill": {
     "duration": 8.510254,
     "end_time": "2022-08-15T04:57:23.441452",
     "exception": false,
     "start_time": "2022-08-15T04:57:14.931198",
     "status": "completed"
    },
    "tags": []
   },
   "outputs": [
    {
     "data": {
      "text/html": [
       "\n",
       "<style>\n",
       "    /* Turns off some styling */\n",
       "    progress {\n",
       "        /* gets rid of default border in Firefox and Opera. */\n",
       "        border: none;\n",
       "        /* Needs to be in here for Safari polyfill so background images work as expected. */\n",
       "        background-size: auto;\n",
       "    }\n",
       "    .progress-bar-interrupted, .progress-bar-interrupted::-webkit-progress-bar {\n",
       "        background: #F44336;\n",
       "    }\n",
       "</style>\n"
      ],
      "text/plain": [
       "<IPython.core.display.HTML object>"
      ]
     },
     "metadata": {},
     "output_type": "display_data"
    },
    {
     "data": {
      "text/html": [
       "\n",
       "    <div>\n",
       "      <progress value='105070592' class='' max='105067061' style='width:300px; height:20px; vertical-align: middle;'></progress>\n",
       "      100.00% [105070592/105067061 00:03<00:00]\n",
       "    </div>\n",
       "    "
      ],
      "text/plain": [
       "<IPython.core.display.HTML object>"
      ]
     },
     "metadata": {},
     "output_type": "display_data"
    }
   ],
   "source": [
    "learn = language_model_learner(\n",
    "    dls_lm, AWD_LSTM, drop_mult=0.3, \n",
    "    metrics=[accuracy, Perplexity()]).to_fp16()"
   ]
  },
  {
   "cell_type": "code",
   "execution_count": 12,
   "id": "8c829da2",
   "metadata": {
    "execution": {
     "iopub.execute_input": "2022-08-15T04:57:23.454316Z",
     "iopub.status.busy": "2022-08-15T04:57:23.454016Z",
     "iopub.status.idle": "2022-08-15T04:57:23.728565Z",
     "shell.execute_reply": "2022-08-15T04:57:23.727625Z"
    },
    "executionInfo": {
     "elapsed": 244,
     "status": "ok",
     "timestamp": 1660500410218,
     "user": {
      "displayName": "Tomas Petrikas",
      "userId": "01959969742665359524"
     },
     "user_tz": -180
    },
    "id": "y8gBx6NRNh-O",
    "papermill": {
     "duration": 0.283264,
     "end_time": "2022-08-15T04:57:23.730709",
     "exception": false,
     "start_time": "2022-08-15T04:57:23.447445",
     "status": "completed"
    },
    "tags": []
   },
   "outputs": [],
   "source": [
    "import gc\n",
    "gc.collect()\n",
    "torch.cuda.empty_cache()"
   ]
  },
  {
   "cell_type": "code",
   "execution_count": 13,
   "id": "cfbcda94",
   "metadata": {
    "execution": {
     "iopub.execute_input": "2022-08-15T04:57:23.745005Z",
     "iopub.status.busy": "2022-08-15T04:57:23.743442Z",
     "iopub.status.idle": "2022-08-15T04:57:23.750226Z",
     "shell.execute_reply": "2022-08-15T04:57:23.749289Z"
    },
    "executionInfo": {
     "elapsed": 36970,
     "status": "error",
     "timestamp": 1660499857591,
     "user": {
      "displayName": "Tomas Petrikas",
      "userId": "01959969742665359524"
     },
     "user_tz": -180
    },
    "id": "5ead70a7",
    "outputId": "6c6d1df9-2ab4-4c79-87f1-013adabeeaf6",
    "papermill": {
     "duration": 0.015474,
     "end_time": "2022-08-15T04:57:23.752206",
     "exception": false,
     "start_time": "2022-08-15T04:57:23.736732",
     "status": "completed"
    },
    "tags": []
   },
   "outputs": [
    {
     "data": {
      "text/plain": [
       "Path('.')"
      ]
     },
     "execution_count": 13,
     "metadata": {},
     "output_type": "execute_result"
    }
   ],
   "source": [
    "learn.path"
   ]
  },
  {
   "cell_type": "code",
   "execution_count": 14,
   "id": "71ab1514",
   "metadata": {
    "execution": {
     "iopub.execute_input": "2022-08-15T04:57:23.764477Z",
     "iopub.status.busy": "2022-08-15T04:57:23.764207Z",
     "iopub.status.idle": "2022-08-15T11:36:47.507717Z",
     "shell.execute_reply": "2022-08-15T11:36:47.506669Z"
    },
    "id": "a2b46125",
    "outputId": "56d039ce-4e85-4341-9f9f-fc667ff08763",
    "papermill": {
     "duration": 23963.751927,
     "end_time": "2022-08-15T11:36:47.509901",
     "exception": false,
     "start_time": "2022-08-15T04:57:23.757974",
     "status": "completed"
    },
    "tags": []
   },
   "outputs": [
    {
     "data": {
      "text/html": [
       "\n",
       "<style>\n",
       "    /* Turns off some styling */\n",
       "    progress {\n",
       "        /* gets rid of default border in Firefox and Opera. */\n",
       "        border: none;\n",
       "        /* Needs to be in here for Safari polyfill so background images work as expected. */\n",
       "        background-size: auto;\n",
       "    }\n",
       "    .progress-bar-interrupted, .progress-bar-interrupted::-webkit-progress-bar {\n",
       "        background: #F44336;\n",
       "    }\n",
       "</style>\n"
      ],
      "text/plain": [
       "<IPython.core.display.HTML object>"
      ]
     },
     "metadata": {},
     "output_type": "display_data"
    },
    {
     "data": {
      "text/html": [
       "<table border=\"1\" class=\"dataframe\">\n",
       "  <thead>\n",
       "    <tr style=\"text-align: left;\">\n",
       "      <th>epoch</th>\n",
       "      <th>train_loss</th>\n",
       "      <th>valid_loss</th>\n",
       "      <th>accuracy</th>\n",
       "      <th>perplexity</th>\n",
       "      <th>time</th>\n",
       "    </tr>\n",
       "  </thead>\n",
       "  <tbody>\n",
       "    <tr>\n",
       "      <td>0</td>\n",
       "      <td>3.712859</td>\n",
       "      <td>3.548160</td>\n",
       "      <td>0.405827</td>\n",
       "      <td>34.749321</td>\n",
       "      <td>6:39:23</td>\n",
       "    </tr>\n",
       "  </tbody>\n",
       "</table>"
      ],
      "text/plain": [
       "<IPython.core.display.HTML object>"
      ]
     },
     "metadata": {},
     "output_type": "display_data"
    }
   ],
   "source": [
    "learn.fit_one_cycle(1, 0.01)"
   ]
  },
  {
   "cell_type": "code",
   "execution_count": 15,
   "id": "8856a6b9",
   "metadata": {
    "execution": {
     "iopub.execute_input": "2022-08-15T11:36:47.523718Z",
     "iopub.status.busy": "2022-08-15T11:36:47.523322Z",
     "iopub.status.idle": "2022-08-15T11:36:52.015795Z",
     "shell.execute_reply": "2022-08-15T11:36:52.014737Z"
    },
    "executionInfo": {
     "elapsed": 4020,
     "status": "ok",
     "timestamp": 1660498936789,
     "user": {
      "displayName": "Tomas Petrikas",
      "userId": "01959969742665359524"
     },
     "user_tz": -180
    },
    "id": "x5iES2_A9-QX",
    "papermill": {
     "duration": 4.502061,
     "end_time": "2022-08-15T11:36:52.018270",
     "exception": false,
     "start_time": "2022-08-15T11:36:47.516209",
     "status": "completed"
    },
    "tags": []
   },
   "outputs": [],
   "source": [
    "learn.export('model_lt_2.pkl')"
   ]
  },
  {
   "cell_type": "code",
   "execution_count": 16,
   "id": "2c8bb051",
   "metadata": {
    "execution": {
     "iopub.execute_input": "2022-08-15T11:36:52.031753Z",
     "iopub.status.busy": "2022-08-15T11:36:52.031391Z",
     "iopub.status.idle": "2022-08-15T11:36:52.037258Z",
     "shell.execute_reply": "2022-08-15T11:36:52.036358Z"
    },
    "executionInfo": {
     "elapsed": 295,
     "status": "ok",
     "timestamp": 1660498940571,
     "user": {
      "displayName": "Tomas Petrikas",
      "userId": "01959969742665359524"
     },
     "user_tz": -180
    },
    "id": "nzSmiSZgTGRP",
    "outputId": "90ff6914-fa7a-4e3f-d86b-69e353731a6b",
    "papermill": {
     "duration": 0.0146,
     "end_time": "2022-08-15T11:36:52.039122",
     "exception": false,
     "start_time": "2022-08-15T11:36:52.024522",
     "status": "completed"
    },
    "tags": []
   },
   "outputs": [
    {
     "data": {
      "text/plain": [
       "Path('.')"
      ]
     },
     "execution_count": 16,
     "metadata": {},
     "output_type": "execute_result"
    }
   ],
   "source": [
    "learn.path"
   ]
  }
 ],
 "metadata": {
  "kernelspec": {
   "display_name": "Python 3",
   "language": "python",
   "name": "python3"
  },
  "language_info": {
   "codemirror_mode": {
    "name": "ipython",
    "version": 3
   },
   "file_extension": ".py",
   "mimetype": "text/x-python",
   "name": "python",
   "nbconvert_exporter": "python",
   "pygments_lexer": "ipython3",
   "version": "3.7.12"
  },
  "papermill": {
   "default_parameters": {},
   "duration": 24642.96959,
   "end_time": "2022-08-15T11:36:55.004637",
   "environment_variables": {},
   "exception": null,
   "input_path": "__notebook__.ipynb",
   "output_path": "__notebook__.ipynb",
   "parameters": {},
   "start_time": "2022-08-15T04:46:12.035047",
   "version": "2.3.4"
  }
 },
 "nbformat": 4,
 "nbformat_minor": 5
}
